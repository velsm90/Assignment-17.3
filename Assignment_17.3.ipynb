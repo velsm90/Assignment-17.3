{
 "cells": [
  {
   "cell_type": "code",
   "execution_count": 5,
   "metadata": {},
   "outputs": [
    {
     "name": "stdout",
     "output_type": "stream",
     "text": [
      "The probablity of getting two red balls is:  0.13333333333333333\n",
      "The probablity of getting two black balls is:  0.3333333333333333\n",
      "The probablity of getting one red ball and black ball is:  0.26666666666666666\n"
     ]
    }
   ],
   "source": [
    "#Two balls are drawn at random in succession without replacement from an urn\n",
    "#containing 4 red balls and 6 black balls.Find the probabilities of all the possible outcomes.\n",
    "\n",
    "# Import libraries\n",
    "import numpy as np\n",
    "import pandas as pd\n",
    "import math\n",
    "\n",
    "#Scenario 1: Both are Red balls\n",
    "p1 = (4*3)/(10*9)  # (4C2/10C2)\n",
    "print(\"The probablity of getting two red balls is: \",p1)\n",
    "\n",
    "#Scenario 2: Both are Black balls\n",
    "p2 = (6*5)/(10*9) # 6C2/10C2\n",
    "print(\"The probablity of getting two black balls is: \",p2)\n",
    "\n",
    "#Scenario 3: One Red ball and One Black ball\n",
    "p3 = (4*6)/(10*9) # (4C1+6C1)/10C2\n",
    "print(\"The probablity of getting one red ball and black ball is: \",p3)\n"
   ]
  },
  {
   "cell_type": "code",
   "execution_count": null,
   "metadata": {},
   "outputs": [],
   "source": []
  }
 ],
 "metadata": {
  "kernelspec": {
   "display_name": "Python 3",
   "language": "python",
   "name": "python3"
  },
  "language_info": {
   "codemirror_mode": {
    "name": "ipython",
    "version": 3
   },
   "file_extension": ".py",
   "mimetype": "text/x-python",
   "name": "python",
   "nbconvert_exporter": "python",
   "pygments_lexer": "ipython3",
   "version": "3.6.4"
  }
 },
 "nbformat": 4,
 "nbformat_minor": 2
}
